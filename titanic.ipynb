{
 "cells": [
  {
   "cell_type": "code",
   "execution_count": 1,
   "id": "b41c8273",
   "metadata": {
    "_cell_guid": "b1076dfc-b9ad-4769-8c92-a6c4dae69d19",
    "_uuid": "8f2839f25d086af736a60e9eeb907d3b93b6e0e5",
    "execution": {
     "iopub.execute_input": "2022-06-01T07:12:22.516625Z",
     "iopub.status.busy": "2022-06-01T07:12:22.515732Z",
     "iopub.status.idle": "2022-06-01T07:12:23.774507Z",
     "shell.execute_reply": "2022-06-01T07:12:23.773074Z"
    },
    "papermill": {
     "duration": 1.284146,
     "end_time": "2022-06-01T07:12:23.776940",
     "exception": false,
     "start_time": "2022-06-01T07:12:22.492794",
     "status": "completed"
    },
    "tags": []
   },
   "outputs": [
    {
     "name": "stdout",
     "output_type": "stream",
     "text": [
      "/kaggle/input/titanic/train.csv\n",
      "/kaggle/input/titanic/test.csv\n",
      "/kaggle/input/titanic/gender_submission.csv\n"
     ]
    }
   ],
   "source": [
    "# This Python 3 environment comes with many helpful analytics libraries installed\n",
    "# It is defined by the kaggle/python Docker image: https://github.com/kaggle/docker-python\n",
    "# For example, here's several helpful packages to load\n",
    "\n",
    "import numpy as np # linear algebra\n",
    "import pandas as pd # data processing, CSV file I/O (e.g. pd.read_csv)\n",
    "import seaborn as sns\n",
    "\n",
    "# Input data files are available in the read-only \"../input/\" directory\n",
    "# For example, running this (by clicking run or pressing Shift+Enter) will list all files under the input directory\n",
    "\n",
    "import os\n",
    "for dirname, _, filenames in os.walk('/kaggle/input'):\n",
    "    for filename in filenames:\n",
    "        print(os.path.join(dirname, filename))\n",
    "\n",
    "# You can write up to 20GB to the current directory (/kaggle/working/) that gets preserved as output when you create a version using \"Save & Run All\" \n",
    "# You can also write temporary files to /kaggle/temp/, but they won't be saved outside of the current session"
   ]
  },
  {
   "cell_type": "code",
   "execution_count": 2,
   "id": "3bbd1995",
   "metadata": {
    "execution": {
     "iopub.execute_input": "2022-06-01T07:12:23.819660Z",
     "iopub.status.busy": "2022-06-01T07:12:23.818746Z",
     "iopub.status.idle": "2022-06-01T07:12:23.848938Z",
     "shell.execute_reply": "2022-06-01T07:12:23.847941Z"
    },
    "papermill": {
     "duration": 0.054328,
     "end_time": "2022-06-01T07:12:23.851752",
     "exception": false,
     "start_time": "2022-06-01T07:12:23.797424",
     "status": "completed"
    },
    "tags": []
   },
   "outputs": [],
   "source": [
    "train_df = pd.read_csv('/kaggle/input/titanic/train.csv')\n",
    "test_df =  pd.read_csv('/kaggle/input/titanic/test.csv')"
   ]
  },
  {
   "cell_type": "code",
   "execution_count": 3,
   "id": "ff640dff",
   "metadata": {
    "execution": {
     "iopub.execute_input": "2022-06-01T07:12:23.894092Z",
     "iopub.status.busy": "2022-06-01T07:12:23.893510Z",
     "iopub.status.idle": "2022-06-01T07:12:23.918692Z",
     "shell.execute_reply": "2022-06-01T07:12:23.917642Z"
    },
    "papermill": {
     "duration": 0.049797,
     "end_time": "2022-06-01T07:12:23.921892",
     "exception": false,
     "start_time": "2022-06-01T07:12:23.872095",
     "status": "completed"
    },
    "tags": []
   },
   "outputs": [
    {
     "data": {
      "text/html": [
       "<div>\n",
       "<style scoped>\n",
       "    .dataframe tbody tr th:only-of-type {\n",
       "        vertical-align: middle;\n",
       "    }\n",
       "\n",
       "    .dataframe tbody tr th {\n",
       "        vertical-align: top;\n",
       "    }\n",
       "\n",
       "    .dataframe thead th {\n",
       "        text-align: right;\n",
       "    }\n",
       "</style>\n",
       "<table border=\"1\" class=\"dataframe\">\n",
       "  <thead>\n",
       "    <tr style=\"text-align: right;\">\n",
       "      <th></th>\n",
       "      <th>PassengerId</th>\n",
       "      <th>Survived</th>\n",
       "      <th>Pclass</th>\n",
       "      <th>Name</th>\n",
       "      <th>Sex</th>\n",
       "      <th>Age</th>\n",
       "      <th>SibSp</th>\n",
       "      <th>Parch</th>\n",
       "      <th>Ticket</th>\n",
       "      <th>Fare</th>\n",
       "      <th>Cabin</th>\n",
       "      <th>Embarked</th>\n",
       "    </tr>\n",
       "  </thead>\n",
       "  <tbody>\n",
       "    <tr>\n",
       "      <th>0</th>\n",
       "      <td>1</td>\n",
       "      <td>0</td>\n",
       "      <td>3</td>\n",
       "      <td>Braund, Mr. Owen Harris</td>\n",
       "      <td>male</td>\n",
       "      <td>22.0</td>\n",
       "      <td>1</td>\n",
       "      <td>0</td>\n",
       "      <td>A/5 21171</td>\n",
       "      <td>7.2500</td>\n",
       "      <td>NaN</td>\n",
       "      <td>S</td>\n",
       "    </tr>\n",
       "    <tr>\n",
       "      <th>1</th>\n",
       "      <td>2</td>\n",
       "      <td>1</td>\n",
       "      <td>1</td>\n",
       "      <td>Cumings, Mrs. John Bradley (Florence Briggs Th...</td>\n",
       "      <td>female</td>\n",
       "      <td>38.0</td>\n",
       "      <td>1</td>\n",
       "      <td>0</td>\n",
       "      <td>PC 17599</td>\n",
       "      <td>71.2833</td>\n",
       "      <td>C85</td>\n",
       "      <td>C</td>\n",
       "    </tr>\n",
       "    <tr>\n",
       "      <th>2</th>\n",
       "      <td>3</td>\n",
       "      <td>1</td>\n",
       "      <td>3</td>\n",
       "      <td>Heikkinen, Miss. Laina</td>\n",
       "      <td>female</td>\n",
       "      <td>26.0</td>\n",
       "      <td>0</td>\n",
       "      <td>0</td>\n",
       "      <td>STON/O2. 3101282</td>\n",
       "      <td>7.9250</td>\n",
       "      <td>NaN</td>\n",
       "      <td>S</td>\n",
       "    </tr>\n",
       "    <tr>\n",
       "      <th>3</th>\n",
       "      <td>4</td>\n",
       "      <td>1</td>\n",
       "      <td>1</td>\n",
       "      <td>Futrelle, Mrs. Jacques Heath (Lily May Peel)</td>\n",
       "      <td>female</td>\n",
       "      <td>35.0</td>\n",
       "      <td>1</td>\n",
       "      <td>0</td>\n",
       "      <td>113803</td>\n",
       "      <td>53.1000</td>\n",
       "      <td>C123</td>\n",
       "      <td>S</td>\n",
       "    </tr>\n",
       "    <tr>\n",
       "      <th>4</th>\n",
       "      <td>5</td>\n",
       "      <td>0</td>\n",
       "      <td>3</td>\n",
       "      <td>Allen, Mr. William Henry</td>\n",
       "      <td>male</td>\n",
       "      <td>35.0</td>\n",
       "      <td>0</td>\n",
       "      <td>0</td>\n",
       "      <td>373450</td>\n",
       "      <td>8.0500</td>\n",
       "      <td>NaN</td>\n",
       "      <td>S</td>\n",
       "    </tr>\n",
       "  </tbody>\n",
       "</table>\n",
       "</div>"
      ],
      "text/plain": [
       "   PassengerId  Survived  Pclass  \\\n",
       "0            1         0       3   \n",
       "1            2         1       1   \n",
       "2            3         1       3   \n",
       "3            4         1       1   \n",
       "4            5         0       3   \n",
       "\n",
       "                                                Name     Sex   Age  SibSp  \\\n",
       "0                            Braund, Mr. Owen Harris    male  22.0      1   \n",
       "1  Cumings, Mrs. John Bradley (Florence Briggs Th...  female  38.0      1   \n",
       "2                             Heikkinen, Miss. Laina  female  26.0      0   \n",
       "3       Futrelle, Mrs. Jacques Heath (Lily May Peel)  female  35.0      1   \n",
       "4                           Allen, Mr. William Henry    male  35.0      0   \n",
       "\n",
       "   Parch            Ticket     Fare Cabin Embarked  \n",
       "0      0         A/5 21171   7.2500   NaN        S  \n",
       "1      0          PC 17599  71.2833   C85        C  \n",
       "2      0  STON/O2. 3101282   7.9250   NaN        S  \n",
       "3      0            113803  53.1000  C123        S  \n",
       "4      0            373450   8.0500   NaN        S  "
      ]
     },
     "execution_count": 3,
     "metadata": {},
     "output_type": "execute_result"
    }
   ],
   "source": [
    "train_df.head()"
   ]
  },
  {
   "cell_type": "code",
   "execution_count": 4,
   "id": "be21df57",
   "metadata": {
    "execution": {
     "iopub.execute_input": "2022-06-01T07:12:23.969179Z",
     "iopub.status.busy": "2022-06-01T07:12:23.968863Z",
     "iopub.status.idle": "2022-06-01T07:12:23.977720Z",
     "shell.execute_reply": "2022-06-01T07:12:23.977076Z"
    },
    "papermill": {
     "duration": 0.032553,
     "end_time": "2022-06-01T07:12:23.979775",
     "exception": false,
     "start_time": "2022-06-01T07:12:23.947222",
     "status": "completed"
    },
    "tags": []
   },
   "outputs": [
    {
     "data": {
      "text/plain": [
       "PassengerId      0\n",
       "Survived         0\n",
       "Pclass           0\n",
       "Name             0\n",
       "Sex              0\n",
       "Age            177\n",
       "SibSp            0\n",
       "Parch            0\n",
       "Ticket           0\n",
       "Fare             0\n",
       "Cabin          687\n",
       "Embarked         2\n",
       "dtype: int64"
      ]
     },
     "execution_count": 4,
     "metadata": {},
     "output_type": "execute_result"
    }
   ],
   "source": [
    "train_df.isnull().sum()"
   ]
  },
  {
   "cell_type": "markdown",
   "id": "926ec05e",
   "metadata": {
    "papermill": {
     "duration": 0.021324,
     "end_time": "2022-06-01T07:12:24.022124",
     "exception": false,
     "start_time": "2022-06-01T07:12:24.000800",
     "status": "completed"
    },
    "tags": []
   },
   "source": [
    "Age,Cabin and Embarked have the null value. \n",
    "Cabin and Age have the most null values"
   ]
  },
  {
   "cell_type": "code",
   "execution_count": 5,
   "id": "80dae88b",
   "metadata": {
    "execution": {
     "iopub.execute_input": "2022-06-01T07:12:24.065488Z",
     "iopub.status.busy": "2022-06-01T07:12:24.064926Z",
     "iopub.status.idle": "2022-06-01T07:12:24.075871Z",
     "shell.execute_reply": "2022-06-01T07:12:24.075182Z"
    },
    "papermill": {
     "duration": 0.035283,
     "end_time": "2022-06-01T07:12:24.078172",
     "exception": false,
     "start_time": "2022-06-01T07:12:24.042889",
     "status": "completed"
    },
    "tags": []
   },
   "outputs": [],
   "source": [
    "train_df.drop('Cabin',axis=1,inplace=True)"
   ]
  },
  {
   "cell_type": "code",
   "execution_count": 6,
   "id": "c1d549be",
   "metadata": {
    "execution": {
     "iopub.execute_input": "2022-06-01T07:12:24.122100Z",
     "iopub.status.busy": "2022-06-01T07:12:24.121555Z",
     "iopub.status.idle": "2022-06-01T07:12:24.135733Z",
     "shell.execute_reply": "2022-06-01T07:12:24.135128Z"
    },
    "papermill": {
     "duration": 0.038526,
     "end_time": "2022-06-01T07:12:24.137725",
     "exception": false,
     "start_time": "2022-06-01T07:12:24.099199",
     "status": "completed"
    },
    "tags": []
   },
   "outputs": [
    {
     "data": {
      "text/html": [
       "<div>\n",
       "<style scoped>\n",
       "    .dataframe tbody tr th:only-of-type {\n",
       "        vertical-align: middle;\n",
       "    }\n",
       "\n",
       "    .dataframe tbody tr th {\n",
       "        vertical-align: top;\n",
       "    }\n",
       "\n",
       "    .dataframe thead th {\n",
       "        text-align: right;\n",
       "    }\n",
       "</style>\n",
       "<table border=\"1\" class=\"dataframe\">\n",
       "  <thead>\n",
       "    <tr style=\"text-align: right;\">\n",
       "      <th></th>\n",
       "      <th>PassengerId</th>\n",
       "      <th>Survived</th>\n",
       "      <th>Pclass</th>\n",
       "      <th>Name</th>\n",
       "      <th>Sex</th>\n",
       "      <th>Age</th>\n",
       "      <th>SibSp</th>\n",
       "      <th>Parch</th>\n",
       "      <th>Ticket</th>\n",
       "      <th>Fare</th>\n",
       "      <th>Embarked</th>\n",
       "    </tr>\n",
       "  </thead>\n",
       "  <tbody>\n",
       "    <tr>\n",
       "      <th>0</th>\n",
       "      <td>1</td>\n",
       "      <td>0</td>\n",
       "      <td>3</td>\n",
       "      <td>Braund, Mr. Owen Harris</td>\n",
       "      <td>male</td>\n",
       "      <td>22.0</td>\n",
       "      <td>1</td>\n",
       "      <td>0</td>\n",
       "      <td>A/5 21171</td>\n",
       "      <td>7.2500</td>\n",
       "      <td>S</td>\n",
       "    </tr>\n",
       "    <tr>\n",
       "      <th>1</th>\n",
       "      <td>2</td>\n",
       "      <td>1</td>\n",
       "      <td>1</td>\n",
       "      <td>Cumings, Mrs. John Bradley (Florence Briggs Th...</td>\n",
       "      <td>female</td>\n",
       "      <td>38.0</td>\n",
       "      <td>1</td>\n",
       "      <td>0</td>\n",
       "      <td>PC 17599</td>\n",
       "      <td>71.2833</td>\n",
       "      <td>C</td>\n",
       "    </tr>\n",
       "    <tr>\n",
       "      <th>2</th>\n",
       "      <td>3</td>\n",
       "      <td>1</td>\n",
       "      <td>3</td>\n",
       "      <td>Heikkinen, Miss. Laina</td>\n",
       "      <td>female</td>\n",
       "      <td>26.0</td>\n",
       "      <td>0</td>\n",
       "      <td>0</td>\n",
       "      <td>STON/O2. 3101282</td>\n",
       "      <td>7.9250</td>\n",
       "      <td>S</td>\n",
       "    </tr>\n",
       "    <tr>\n",
       "      <th>3</th>\n",
       "      <td>4</td>\n",
       "      <td>1</td>\n",
       "      <td>1</td>\n",
       "      <td>Futrelle, Mrs. Jacques Heath (Lily May Peel)</td>\n",
       "      <td>female</td>\n",
       "      <td>35.0</td>\n",
       "      <td>1</td>\n",
       "      <td>0</td>\n",
       "      <td>113803</td>\n",
       "      <td>53.1000</td>\n",
       "      <td>S</td>\n",
       "    </tr>\n",
       "    <tr>\n",
       "      <th>4</th>\n",
       "      <td>5</td>\n",
       "      <td>0</td>\n",
       "      <td>3</td>\n",
       "      <td>Allen, Mr. William Henry</td>\n",
       "      <td>male</td>\n",
       "      <td>35.0</td>\n",
       "      <td>0</td>\n",
       "      <td>0</td>\n",
       "      <td>373450</td>\n",
       "      <td>8.0500</td>\n",
       "      <td>S</td>\n",
       "    </tr>\n",
       "  </tbody>\n",
       "</table>\n",
       "</div>"
      ],
      "text/plain": [
       "   PassengerId  Survived  Pclass  \\\n",
       "0            1         0       3   \n",
       "1            2         1       1   \n",
       "2            3         1       3   \n",
       "3            4         1       1   \n",
       "4            5         0       3   \n",
       "\n",
       "                                                Name     Sex   Age  SibSp  \\\n",
       "0                            Braund, Mr. Owen Harris    male  22.0      1   \n",
       "1  Cumings, Mrs. John Bradley (Florence Briggs Th...  female  38.0      1   \n",
       "2                             Heikkinen, Miss. Laina  female  26.0      0   \n",
       "3       Futrelle, Mrs. Jacques Heath (Lily May Peel)  female  35.0      1   \n",
       "4                           Allen, Mr. William Henry    male  35.0      0   \n",
       "\n",
       "   Parch            Ticket     Fare Embarked  \n",
       "0      0         A/5 21171   7.2500        S  \n",
       "1      0          PC 17599  71.2833        C  \n",
       "2      0  STON/O2. 3101282   7.9250        S  \n",
       "3      0            113803  53.1000        S  \n",
       "4      0            373450   8.0500        S  "
      ]
     },
     "execution_count": 6,
     "metadata": {},
     "output_type": "execute_result"
    }
   ],
   "source": [
    "train_df.head()"
   ]
  },
  {
   "cell_type": "code",
   "execution_count": null,
   "id": "929f46cf",
   "metadata": {
    "execution": {
     "iopub.execute_input": "2022-05-03T09:26:58.269809Z",
     "iopub.status.busy": "2022-05-03T09:26:58.269045Z",
     "iopub.status.idle": "2022-05-03T09:26:58.297346Z",
     "shell.execute_reply": "2022-05-03T09:26:58.296477Z",
     "shell.execute_reply.started": "2022-05-03T09:26:58.269764Z"
    },
    "papermill": {
     "duration": 0.021765,
     "end_time": "2022-06-01T07:12:24.181940",
     "exception": false,
     "start_time": "2022-06-01T07:12:24.160175",
     "status": "completed"
    },
    "tags": []
   },
   "outputs": [],
   "source": []
  },
  {
   "cell_type": "code",
   "execution_count": null,
   "id": "f97b04e7",
   "metadata": {
    "execution": {
     "iopub.execute_input": "2022-05-03T09:26:58.299484Z",
     "iopub.status.busy": "2022-05-03T09:26:58.298958Z",
     "iopub.status.idle": "2022-05-03T09:26:58.310296Z",
     "shell.execute_reply": "2022-05-03T09:26:58.309448Z",
     "shell.execute_reply.started": "2022-05-03T09:26:58.299436Z"
    },
    "papermill": {
     "duration": 0.021006,
     "end_time": "2022-06-01T07:12:24.224536",
     "exception": false,
     "start_time": "2022-06-01T07:12:24.203530",
     "status": "completed"
    },
    "tags": []
   },
   "outputs": [],
   "source": []
  },
  {
   "cell_type": "code",
   "execution_count": null,
   "id": "21975c44",
   "metadata": {
    "execution": {
     "iopub.execute_input": "2022-05-03T09:26:58.312872Z",
     "iopub.status.busy": "2022-05-03T09:26:58.312165Z",
     "iopub.status.idle": "2022-05-03T09:26:58.341751Z",
     "shell.execute_reply": "2022-05-03T09:26:58.340879Z",
     "shell.execute_reply.started": "2022-05-03T09:26:58.312824Z"
    },
    "papermill": {
     "duration": 0.021157,
     "end_time": "2022-06-01T07:12:24.267005",
     "exception": false,
     "start_time": "2022-06-01T07:12:24.245848",
     "status": "completed"
    },
    "tags": []
   },
   "outputs": [],
   "source": []
  },
  {
   "cell_type": "code",
   "execution_count": null,
   "id": "c8397114",
   "metadata": {
    "execution": {
     "iopub.execute_input": "2022-05-03T09:26:58.343831Z",
     "iopub.status.busy": "2022-05-03T09:26:58.343601Z",
     "iopub.status.idle": "2022-05-03T09:26:58.374933Z",
     "shell.execute_reply": "2022-05-03T09:26:58.373917Z",
     "shell.execute_reply.started": "2022-05-03T09:26:58.343799Z"
    },
    "papermill": {
     "duration": 0.021065,
     "end_time": "2022-06-01T07:12:24.309355",
     "exception": false,
     "start_time": "2022-06-01T07:12:24.288290",
     "status": "completed"
    },
    "tags": []
   },
   "outputs": [],
   "source": []
  },
  {
   "cell_type": "code",
   "execution_count": null,
   "id": "6be08ad8",
   "metadata": {
    "execution": {
     "iopub.execute_input": "2022-05-03T09:26:58.377244Z",
     "iopub.status.busy": "2022-05-03T09:26:58.37672Z",
     "iopub.status.idle": "2022-05-03T09:26:58.401274Z",
     "shell.execute_reply": "2022-05-03T09:26:58.400465Z",
     "shell.execute_reply.started": "2022-05-03T09:26:58.377201Z"
    },
    "papermill": {
     "duration": 0.020747,
     "end_time": "2022-06-01T07:12:24.351299",
     "exception": false,
     "start_time": "2022-06-01T07:12:24.330552",
     "status": "completed"
    },
    "tags": []
   },
   "outputs": [],
   "source": []
  },
  {
   "cell_type": "code",
   "execution_count": null,
   "id": "9b722c28",
   "metadata": {
    "execution": {
     "iopub.execute_input": "2022-05-03T09:26:58.403433Z",
     "iopub.status.busy": "2022-05-03T09:26:58.40312Z",
     "iopub.status.idle": "2022-05-03T09:26:58.408648Z",
     "shell.execute_reply": "2022-05-03T09:26:58.407597Z",
     "shell.execute_reply.started": "2022-05-03T09:26:58.403379Z"
    },
    "papermill": {
     "duration": 0.020691,
     "end_time": "2022-06-01T07:12:24.393174",
     "exception": false,
     "start_time": "2022-06-01T07:12:24.372483",
     "status": "completed"
    },
    "tags": []
   },
   "outputs": [],
   "source": []
  },
  {
   "cell_type": "code",
   "execution_count": null,
   "id": "c1248120",
   "metadata": {
    "execution": {
     "iopub.execute_input": "2022-05-03T09:26:58.410814Z",
     "iopub.status.busy": "2022-05-03T09:26:58.410304Z",
     "iopub.status.idle": "2022-05-03T09:26:58.425578Z",
     "shell.execute_reply": "2022-05-03T09:26:58.424615Z",
     "shell.execute_reply.started": "2022-05-03T09:26:58.41077Z"
    },
    "papermill": {
     "duration": 0.020792,
     "end_time": "2022-06-01T07:12:24.434968",
     "exception": false,
     "start_time": "2022-06-01T07:12:24.414176",
     "status": "completed"
    },
    "tags": []
   },
   "outputs": [],
   "source": []
  },
  {
   "cell_type": "code",
   "execution_count": null,
   "id": "287da305",
   "metadata": {
    "execution": {
     "iopub.execute_input": "2022-05-03T09:26:58.426904Z",
     "iopub.status.busy": "2022-05-03T09:26:58.4266Z",
     "iopub.status.idle": "2022-05-03T09:26:58.434643Z",
     "shell.execute_reply": "2022-05-03T09:26:58.433896Z",
     "shell.execute_reply.started": "2022-05-03T09:26:58.426872Z"
    },
    "papermill": {
     "duration": 0.023425,
     "end_time": "2022-06-01T07:12:24.480116",
     "exception": false,
     "start_time": "2022-06-01T07:12:24.456691",
     "status": "completed"
    },
    "tags": []
   },
   "outputs": [],
   "source": []
  },
  {
   "cell_type": "code",
   "execution_count": null,
   "id": "3bbf7753",
   "metadata": {
    "execution": {
     "iopub.execute_input": "2022-05-03T09:26:58.436367Z",
     "iopub.status.busy": "2022-05-03T09:26:58.435942Z",
     "iopub.status.idle": "2022-05-03T09:26:58.462963Z",
     "shell.execute_reply": "2022-05-03T09:26:58.462099Z",
     "shell.execute_reply.started": "2022-05-03T09:26:58.436288Z"
    },
    "papermill": {
     "duration": 0.020797,
     "end_time": "2022-06-01T07:12:24.522100",
     "exception": false,
     "start_time": "2022-06-01T07:12:24.501303",
     "status": "completed"
    },
    "tags": []
   },
   "outputs": [],
   "source": []
  },
  {
   "cell_type": "code",
   "execution_count": null,
   "id": "c2ae3211",
   "metadata": {
    "papermill": {
     "duration": 0.020653,
     "end_time": "2022-06-01T07:12:24.563879",
     "exception": false,
     "start_time": "2022-06-01T07:12:24.543226",
     "status": "completed"
    },
    "tags": []
   },
   "outputs": [],
   "source": []
  },
  {
   "cell_type": "code",
   "execution_count": null,
   "id": "7d41d834",
   "metadata": {
    "papermill": {
     "duration": 0.020611,
     "end_time": "2022-06-01T07:12:24.605543",
     "exception": false,
     "start_time": "2022-06-01T07:12:24.584932",
     "status": "completed"
    },
    "tags": []
   },
   "outputs": [],
   "source": []
  },
  {
   "cell_type": "code",
   "execution_count": null,
   "id": "d4285a6e",
   "metadata": {
    "papermill": {
     "duration": 0.021265,
     "end_time": "2022-06-01T07:12:24.647949",
     "exception": false,
     "start_time": "2022-06-01T07:12:24.626684",
     "status": "completed"
    },
    "tags": []
   },
   "outputs": [],
   "source": []
  }
 ],
 "metadata": {
  "kernelspec": {
   "display_name": "Python 3",
   "language": "python",
   "name": "python3"
  },
  "language_info": {
   "codemirror_mode": {
    "name": "ipython",
    "version": 3
   },
   "file_extension": ".py",
   "mimetype": "text/x-python",
   "name": "python",
   "nbconvert_exporter": "python",
   "pygments_lexer": "ipython3",
   "version": "3.7.12"
  },
  "papermill": {
   "default_parameters": {},
   "duration": 14.033021,
   "end_time": "2022-06-01T07:12:25.692445",
   "environment_variables": {},
   "exception": null,
   "input_path": "__notebook__.ipynb",
   "output_path": "__notebook__.ipynb",
   "parameters": {},
   "start_time": "2022-06-01T07:12:11.659424",
   "version": "2.3.4"
  }
 },
 "nbformat": 4,
 "nbformat_minor": 5
}
