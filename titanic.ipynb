{
 "cells": [
  {
   "cell_type": "code",
   "execution_count": 1,
   "id": "1d15d390",
   "metadata": {
    "_cell_guid": "b1076dfc-b9ad-4769-8c92-a6c4dae69d19",
    "_uuid": "8f2839f25d086af736a60e9eeb907d3b93b6e0e5",
    "execution": {
     "iopub.execute_input": "2022-06-01T07:44:53.073939Z",
     "iopub.status.busy": "2022-06-01T07:44:53.073335Z",
     "iopub.status.idle": "2022-06-01T07:44:54.319432Z",
     "shell.execute_reply": "2022-06-01T07:44:54.317817Z"
    },
    "papermill": {
     "duration": 1.271478,
     "end_time": "2022-06-01T07:44:54.322508",
     "exception": false,
     "start_time": "2022-06-01T07:44:53.051030",
     "status": "completed"
    },
    "tags": []
   },
   "outputs": [
    {
     "name": "stdout",
     "output_type": "stream",
     "text": [
      "/kaggle/input/titanic/train.csv\n",
      "/kaggle/input/titanic/test.csv\n",
      "/kaggle/input/titanic/gender_submission.csv\n"
     ]
    }
   ],
   "source": [
    "# This Python 3 environment comes with many helpful analytics libraries installed\n",
    "# It is defined by the kaggle/python Docker image: https://github.com/kaggle/docker-python\n",
    "# For example, here's several helpful packages to load\n",
    "\n",
    "import numpy as np # linear algebra\n",
    "import pandas as pd # data processing, CSV file I/O (e.g. pd.read_csv)\n",
    "import seaborn as sns\n",
    "\n",
    "# Input data files are available in the read-only \"../input/\" directory\n",
    "# For example, running this (by clicking run or pressing Shift+Enter) will list all files under the input directory\n",
    "\n",
    "import os\n",
    "for dirname, _, filenames in os.walk('/kaggle/input'):\n",
    "    for filename in filenames:\n",
    "        print(os.path.join(dirname, filename))\n",
    "\n",
    "# You can write up to 20GB to the current directory (/kaggle/working/) that gets preserved as output when you create a version using \"Save & Run All\" \n",
    "# You can also write temporary files to /kaggle/temp/, but they won't be saved outside of the current session"
   ]
  },
  {
   "cell_type": "code",
   "execution_count": 2,
   "id": "25e08d8b",
   "metadata": {
    "execution": {
     "iopub.execute_input": "2022-06-01T07:44:54.363663Z",
     "iopub.status.busy": "2022-06-01T07:44:54.363363Z",
     "iopub.status.idle": "2022-06-01T07:44:54.397358Z",
     "shell.execute_reply": "2022-06-01T07:44:54.395915Z"
    },
    "papermill": {
     "duration": 0.057514,
     "end_time": "2022-06-01T07:44:54.400652",
     "exception": false,
     "start_time": "2022-06-01T07:44:54.343138",
     "status": "completed"
    },
    "tags": []
   },
   "outputs": [],
   "source": [
    "train_df = pd.read_csv('/kaggle/input/titanic/train.csv')\n",
    "test_df =  pd.read_csv('/kaggle/input/titanic/test.csv')"
   ]
  },
  {
   "cell_type": "code",
   "execution_count": 3,
   "id": "31a83e2d",
   "metadata": {
    "execution": {
     "iopub.execute_input": "2022-06-01T07:44:54.440902Z",
     "iopub.status.busy": "2022-06-01T07:44:54.440561Z",
     "iopub.status.idle": "2022-06-01T07:44:54.466590Z",
     "shell.execute_reply": "2022-06-01T07:44:54.465946Z"
    },
    "papermill": {
     "duration": 0.048465,
     "end_time": "2022-06-01T07:44:54.469043",
     "exception": false,
     "start_time": "2022-06-01T07:44:54.420578",
     "status": "completed"
    },
    "tags": []
   },
   "outputs": [
    {
     "data": {
      "text/html": [
       "<div>\n",
       "<style scoped>\n",
       "    .dataframe tbody tr th:only-of-type {\n",
       "        vertical-align: middle;\n",
       "    }\n",
       "\n",
       "    .dataframe tbody tr th {\n",
       "        vertical-align: top;\n",
       "    }\n",
       "\n",
       "    .dataframe thead th {\n",
       "        text-align: right;\n",
       "    }\n",
       "</style>\n",
       "<table border=\"1\" class=\"dataframe\">\n",
       "  <thead>\n",
       "    <tr style=\"text-align: right;\">\n",
       "      <th></th>\n",
       "      <th>PassengerId</th>\n",
       "      <th>Survived</th>\n",
       "      <th>Pclass</th>\n",
       "      <th>Name</th>\n",
       "      <th>Sex</th>\n",
       "      <th>Age</th>\n",
       "      <th>SibSp</th>\n",
       "      <th>Parch</th>\n",
       "      <th>Ticket</th>\n",
       "      <th>Fare</th>\n",
       "      <th>Cabin</th>\n",
       "      <th>Embarked</th>\n",
       "    </tr>\n",
       "  </thead>\n",
       "  <tbody>\n",
       "    <tr>\n",
       "      <th>0</th>\n",
       "      <td>1</td>\n",
       "      <td>0</td>\n",
       "      <td>3</td>\n",
       "      <td>Braund, Mr. Owen Harris</td>\n",
       "      <td>male</td>\n",
       "      <td>22.0</td>\n",
       "      <td>1</td>\n",
       "      <td>0</td>\n",
       "      <td>A/5 21171</td>\n",
       "      <td>7.2500</td>\n",
       "      <td>NaN</td>\n",
       "      <td>S</td>\n",
       "    </tr>\n",
       "    <tr>\n",
       "      <th>1</th>\n",
       "      <td>2</td>\n",
       "      <td>1</td>\n",
       "      <td>1</td>\n",
       "      <td>Cumings, Mrs. John Bradley (Florence Briggs Th...</td>\n",
       "      <td>female</td>\n",
       "      <td>38.0</td>\n",
       "      <td>1</td>\n",
       "      <td>0</td>\n",
       "      <td>PC 17599</td>\n",
       "      <td>71.2833</td>\n",
       "      <td>C85</td>\n",
       "      <td>C</td>\n",
       "    </tr>\n",
       "    <tr>\n",
       "      <th>2</th>\n",
       "      <td>3</td>\n",
       "      <td>1</td>\n",
       "      <td>3</td>\n",
       "      <td>Heikkinen, Miss. Laina</td>\n",
       "      <td>female</td>\n",
       "      <td>26.0</td>\n",
       "      <td>0</td>\n",
       "      <td>0</td>\n",
       "      <td>STON/O2. 3101282</td>\n",
       "      <td>7.9250</td>\n",
       "      <td>NaN</td>\n",
       "      <td>S</td>\n",
       "    </tr>\n",
       "    <tr>\n",
       "      <th>3</th>\n",
       "      <td>4</td>\n",
       "      <td>1</td>\n",
       "      <td>1</td>\n",
       "      <td>Futrelle, Mrs. Jacques Heath (Lily May Peel)</td>\n",
       "      <td>female</td>\n",
       "      <td>35.0</td>\n",
       "      <td>1</td>\n",
       "      <td>0</td>\n",
       "      <td>113803</td>\n",
       "      <td>53.1000</td>\n",
       "      <td>C123</td>\n",
       "      <td>S</td>\n",
       "    </tr>\n",
       "    <tr>\n",
       "      <th>4</th>\n",
       "      <td>5</td>\n",
       "      <td>0</td>\n",
       "      <td>3</td>\n",
       "      <td>Allen, Mr. William Henry</td>\n",
       "      <td>male</td>\n",
       "      <td>35.0</td>\n",
       "      <td>0</td>\n",
       "      <td>0</td>\n",
       "      <td>373450</td>\n",
       "      <td>8.0500</td>\n",
       "      <td>NaN</td>\n",
       "      <td>S</td>\n",
       "    </tr>\n",
       "  </tbody>\n",
       "</table>\n",
       "</div>"
      ],
      "text/plain": [
       "   PassengerId  Survived  Pclass  \\\n",
       "0            1         0       3   \n",
       "1            2         1       1   \n",
       "2            3         1       3   \n",
       "3            4         1       1   \n",
       "4            5         0       3   \n",
       "\n",
       "                                                Name     Sex   Age  SibSp  \\\n",
       "0                            Braund, Mr. Owen Harris    male  22.0      1   \n",
       "1  Cumings, Mrs. John Bradley (Florence Briggs Th...  female  38.0      1   \n",
       "2                             Heikkinen, Miss. Laina  female  26.0      0   \n",
       "3       Futrelle, Mrs. Jacques Heath (Lily May Peel)  female  35.0      1   \n",
       "4                           Allen, Mr. William Henry    male  35.0      0   \n",
       "\n",
       "   Parch            Ticket     Fare Cabin Embarked  \n",
       "0      0         A/5 21171   7.2500   NaN        S  \n",
       "1      0          PC 17599  71.2833   C85        C  \n",
       "2      0  STON/O2. 3101282   7.9250   NaN        S  \n",
       "3      0            113803  53.1000  C123        S  \n",
       "4      0            373450   8.0500   NaN        S  "
      ]
     },
     "execution_count": 3,
     "metadata": {},
     "output_type": "execute_result"
    }
   ],
   "source": [
    "train_df.head()"
   ]
  },
  {
   "cell_type": "code",
   "execution_count": 4,
   "id": "a0bdcba3",
   "metadata": {
    "execution": {
     "iopub.execute_input": "2022-06-01T07:44:54.508643Z",
     "iopub.status.busy": "2022-06-01T07:44:54.507947Z",
     "iopub.status.idle": "2022-06-01T07:44:54.518396Z",
     "shell.execute_reply": "2022-06-01T07:44:54.517535Z"
    },
    "papermill": {
     "duration": 0.032478,
     "end_time": "2022-06-01T07:44:54.520434",
     "exception": false,
     "start_time": "2022-06-01T07:44:54.487956",
     "status": "completed"
    },
    "tags": []
   },
   "outputs": [
    {
     "data": {
      "text/plain": [
       "PassengerId      0\n",
       "Survived         0\n",
       "Pclass           0\n",
       "Name             0\n",
       "Sex              0\n",
       "Age            177\n",
       "SibSp            0\n",
       "Parch            0\n",
       "Ticket           0\n",
       "Fare             0\n",
       "Cabin          687\n",
       "Embarked         2\n",
       "dtype: int64"
      ]
     },
     "execution_count": 4,
     "metadata": {},
     "output_type": "execute_result"
    }
   ],
   "source": [
    "train_df.isnull().sum()"
   ]
  },
  {
   "cell_type": "markdown",
   "id": "012eb03d",
   "metadata": {
    "papermill": {
     "duration": 0.020893,
     "end_time": "2022-06-01T07:44:54.560600",
     "exception": false,
     "start_time": "2022-06-01T07:44:54.539707",
     "status": "completed"
    },
    "tags": []
   },
   "source": [
    "Age,Cabin and Embarked have the null value. \n",
    "Cabin and Age have the most null values"
   ]
  },
  {
   "cell_type": "code",
   "execution_count": 5,
   "id": "affb0ac3",
   "metadata": {
    "execution": {
     "iopub.execute_input": "2022-06-01T07:44:54.602953Z",
     "iopub.status.busy": "2022-06-01T07:44:54.601882Z",
     "iopub.status.idle": "2022-06-01T07:44:54.614553Z",
     "shell.execute_reply": "2022-06-01T07:44:54.613605Z"
    },
    "papermill": {
     "duration": 0.03557,
     "end_time": "2022-06-01T07:44:54.616808",
     "exception": false,
     "start_time": "2022-06-01T07:44:54.581238",
     "status": "completed"
    },
    "tags": []
   },
   "outputs": [],
   "source": [
    "train_df.drop('Cabin',axis=1,inplace=True)"
   ]
  },
  {
   "cell_type": "code",
   "execution_count": 6,
   "id": "389287a0",
   "metadata": {
    "execution": {
     "iopub.execute_input": "2022-06-01T07:44:54.657733Z",
     "iopub.status.busy": "2022-06-01T07:44:54.657130Z",
     "iopub.status.idle": "2022-06-01T07:44:54.672220Z",
     "shell.execute_reply": "2022-06-01T07:44:54.671338Z"
    },
    "papermill": {
     "duration": 0.038541,
     "end_time": "2022-06-01T07:44:54.674769",
     "exception": false,
     "start_time": "2022-06-01T07:44:54.636228",
     "status": "completed"
    },
    "tags": []
   },
   "outputs": [
    {
     "data": {
      "text/html": [
       "<div>\n",
       "<style scoped>\n",
       "    .dataframe tbody tr th:only-of-type {\n",
       "        vertical-align: middle;\n",
       "    }\n",
       "\n",
       "    .dataframe tbody tr th {\n",
       "        vertical-align: top;\n",
       "    }\n",
       "\n",
       "    .dataframe thead th {\n",
       "        text-align: right;\n",
       "    }\n",
       "</style>\n",
       "<table border=\"1\" class=\"dataframe\">\n",
       "  <thead>\n",
       "    <tr style=\"text-align: right;\">\n",
       "      <th></th>\n",
       "      <th>PassengerId</th>\n",
       "      <th>Survived</th>\n",
       "      <th>Pclass</th>\n",
       "      <th>Name</th>\n",
       "      <th>Sex</th>\n",
       "      <th>Age</th>\n",
       "      <th>SibSp</th>\n",
       "      <th>Parch</th>\n",
       "      <th>Ticket</th>\n",
       "      <th>Fare</th>\n",
       "      <th>Embarked</th>\n",
       "    </tr>\n",
       "  </thead>\n",
       "  <tbody>\n",
       "    <tr>\n",
       "      <th>0</th>\n",
       "      <td>1</td>\n",
       "      <td>0</td>\n",
       "      <td>3</td>\n",
       "      <td>Braund, Mr. Owen Harris</td>\n",
       "      <td>male</td>\n",
       "      <td>22.0</td>\n",
       "      <td>1</td>\n",
       "      <td>0</td>\n",
       "      <td>A/5 21171</td>\n",
       "      <td>7.2500</td>\n",
       "      <td>S</td>\n",
       "    </tr>\n",
       "    <tr>\n",
       "      <th>1</th>\n",
       "      <td>2</td>\n",
       "      <td>1</td>\n",
       "      <td>1</td>\n",
       "      <td>Cumings, Mrs. John Bradley (Florence Briggs Th...</td>\n",
       "      <td>female</td>\n",
       "      <td>38.0</td>\n",
       "      <td>1</td>\n",
       "      <td>0</td>\n",
       "      <td>PC 17599</td>\n",
       "      <td>71.2833</td>\n",
       "      <td>C</td>\n",
       "    </tr>\n",
       "    <tr>\n",
       "      <th>2</th>\n",
       "      <td>3</td>\n",
       "      <td>1</td>\n",
       "      <td>3</td>\n",
       "      <td>Heikkinen, Miss. Laina</td>\n",
       "      <td>female</td>\n",
       "      <td>26.0</td>\n",
       "      <td>0</td>\n",
       "      <td>0</td>\n",
       "      <td>STON/O2. 3101282</td>\n",
       "      <td>7.9250</td>\n",
       "      <td>S</td>\n",
       "    </tr>\n",
       "    <tr>\n",
       "      <th>3</th>\n",
       "      <td>4</td>\n",
       "      <td>1</td>\n",
       "      <td>1</td>\n",
       "      <td>Futrelle, Mrs. Jacques Heath (Lily May Peel)</td>\n",
       "      <td>female</td>\n",
       "      <td>35.0</td>\n",
       "      <td>1</td>\n",
       "      <td>0</td>\n",
       "      <td>113803</td>\n",
       "      <td>53.1000</td>\n",
       "      <td>S</td>\n",
       "    </tr>\n",
       "    <tr>\n",
       "      <th>4</th>\n",
       "      <td>5</td>\n",
       "      <td>0</td>\n",
       "      <td>3</td>\n",
       "      <td>Allen, Mr. William Henry</td>\n",
       "      <td>male</td>\n",
       "      <td>35.0</td>\n",
       "      <td>0</td>\n",
       "      <td>0</td>\n",
       "      <td>373450</td>\n",
       "      <td>8.0500</td>\n",
       "      <td>S</td>\n",
       "    </tr>\n",
       "  </tbody>\n",
       "</table>\n",
       "</div>"
      ],
      "text/plain": [
       "   PassengerId  Survived  Pclass  \\\n",
       "0            1         0       3   \n",
       "1            2         1       1   \n",
       "2            3         1       3   \n",
       "3            4         1       1   \n",
       "4            5         0       3   \n",
       "\n",
       "                                                Name     Sex   Age  SibSp  \\\n",
       "0                            Braund, Mr. Owen Harris    male  22.0      1   \n",
       "1  Cumings, Mrs. John Bradley (Florence Briggs Th...  female  38.0      1   \n",
       "2                             Heikkinen, Miss. Laina  female  26.0      0   \n",
       "3       Futrelle, Mrs. Jacques Heath (Lily May Peel)  female  35.0      1   \n",
       "4                           Allen, Mr. William Henry    male  35.0      0   \n",
       "\n",
       "   Parch            Ticket     Fare Embarked  \n",
       "0      0         A/5 21171   7.2500        S  \n",
       "1      0          PC 17599  71.2833        C  \n",
       "2      0  STON/O2. 3101282   7.9250        S  \n",
       "3      0            113803  53.1000        S  \n",
       "4      0            373450   8.0500        S  "
      ]
     },
     "execution_count": 6,
     "metadata": {},
     "output_type": "execute_result"
    }
   ],
   "source": [
    "train_df.head()"
   ]
  },
  {
   "cell_type": "code",
   "execution_count": 7,
   "id": "6e4f3755",
   "metadata": {
    "execution": {
     "iopub.execute_input": "2022-06-01T07:44:54.716736Z",
     "iopub.status.busy": "2022-06-01T07:44:54.716423Z",
     "iopub.status.idle": "2022-06-01T07:44:55.133979Z",
     "shell.execute_reply": "2022-06-01T07:44:55.132720Z"
    },
    "papermill": {
     "duration": 0.441754,
     "end_time": "2022-06-01T07:44:55.136481",
     "exception": false,
     "start_time": "2022-06-01T07:44:54.694727",
     "status": "completed"
    },
    "tags": []
   },
   "outputs": [
    {
     "name": "stderr",
     "output_type": "stream",
     "text": [
      "/opt/conda/lib/python3.7/site-packages/seaborn/categorical.py:3717: UserWarning: The `factorplot` function has been renamed to `catplot`. The original name will be removed in a future release. Please update your code. Note that the default `kind` in `factorplot` (`'point'`) has changed `'strip'` in `catplot`.\n",
      "  warnings.warn(msg)\n"
     ]
    },
    {
     "data": {
      "text/plain": [
       "<seaborn.axisgrid.FacetGrid at 0x7f9cb804b150>"
      ]
     },
     "execution_count": 7,
     "metadata": {},
     "output_type": "execute_result"
    },
    {
     "data": {
      "image/png": "[encoded data removed]",
      "text/plain": [
       "<Figure size 720x360 with 2 Axes>"
      ]
     },
     "metadata": {
      "needs_background": "light"
     },
     "output_type": "display_data"
    }
   ],
   "source": [
    "sns.factorplot(x='Survived',col='Sex',kind='count',data=train_df)"
   ]
  },
  {
   "cell_type": "markdown",
   "id": "117ed4d8",
   "metadata": {
    "papermill": {
     "duration": 0.02112,
     "end_time": "2022-06-01T07:44:55.179362",
     "exception": false,
     "start_time": "2022-06-01T07:44:55.158242",
     "status": "completed"
    },
    "tags": []
   },
   "source": [
    "When the titanic was drowning, women and children were given more priority to be saved and hence the gender that survived the most are females"
   ]
  },
  {
   "cell_type": "code",
   "execution_count": 8,
   "id": "4ab2c3e7",
   "metadata": {
    "execution": {
     "iopub.execute_input": "2022-06-01T07:44:55.224926Z",
     "iopub.status.busy": "2022-06-01T07:44:55.224617Z",
     "iopub.status.idle": "2022-06-01T07:44:55.619505Z",
     "shell.execute_reply": "2022-06-01T07:44:55.618788Z"
    },
    "papermill": {
     "duration": 0.419758,
     "end_time": "2022-06-01T07:44:55.621656",
     "exception": false,
     "start_time": "2022-06-01T07:44:55.201898",
     "status": "completed"
    },
    "tags": []
   },
   "outputs": [
    {
     "name": "stderr",
     "output_type": "stream",
     "text": [
      "/opt/conda/lib/python3.7/site-packages/seaborn/categorical.py:3717: UserWarning: The `factorplot` function has been renamed to `catplot`. The original name will be removed in a future release. Please update your code. Note that the default `kind` in `factorplot` (`'point'`) has changed `'strip'` in `catplot`.\n",
      "  warnings.warn(msg)\n"
     ]
    },
    {
     "data": {
      "text/plain": [
       "<seaborn.axisgrid.FacetGrid at 0x7f9cb5bce310>"
      ]
     },
     "execution_count": 8,
     "metadata": {},
     "output_type": "execute_result"
    },
    {
     "data": {
      "image/png": "[encoded data removed]",
      "text/plain": [
       "<Figure size 720x360 with 2 Axes>"
      ]
     },
     "metadata": {
      "needs_background": "light"
     },
     "output_type": "display_data"
    }
   ],
   "source": [
    "sns.factorplot(x='Pclass',col='Sex',kind='count',data=train_df)"
   ]
  },
  {
   "cell_type": "markdown",
   "id": "9485bfd1",
   "metadata": {
    "papermill": {
     "duration": 0.022399,
     "end_time": "2022-06-01T07:44:55.667218",
     "exception": false,
     "start_time": "2022-06-01T07:44:55.644819",
     "status": "completed"
    },
    "tags": []
   },
   "source": []
  },
  {
   "cell_type": "code",
   "execution_count": 9,
   "id": "3a0f5e47",
   "metadata": {
    "execution": {
     "iopub.execute_input": "2022-06-01T07:44:55.718456Z",
     "iopub.status.busy": "2022-06-01T07:44:55.717608Z",
     "iopub.status.idle": "2022-06-01T07:44:55.946610Z",
     "shell.execute_reply": "2022-06-01T07:44:55.945693Z"
    },
    "papermill": {
     "duration": 0.258004,
     "end_time": "2022-06-01T07:44:55.949054",
     "exception": false,
     "start_time": "2022-06-01T07:44:55.691050",
     "status": "completed"
    },
    "tags": []
   },
   "outputs": [
    {
     "data": {
      "text/plain": [
       "<AxesSubplot:xlabel='Survived', ylabel='count'>"
      ]
     },
     "execution_count": 9,
     "metadata": {},
     "output_type": "execute_result"
    },
    {
     "data": {
      "image/png": "[encoded data removed]",
      "text/plain": [
       "<Figure size 432x288 with 1 Axes>"
      ]
     },
     "metadata": {
      "needs_background": "light"
     },
     "output_type": "display_data"
    }
   ],
   "source": [
    "sns.countplot(x='Survived',hue='Pclass',data=train_df)"
   ]
  },
  {
   "cell_type": "markdown",
   "id": "3608399d",
   "metadata": {
    "papermill": {
     "duration": 0.025645,
     "end_time": "2022-06-01T07:44:55.999159",
     "exception": false,
     "start_time": "2022-06-01T07:44:55.973514",
     "status": "completed"
    },
    "tags": []
   },
   "source": [
    "Most of the people that couldn't survive belonged to Pclass 3 and from the factor plot for Pclass vs Sex we observe that majority of the people were male."
   ]
  },
  {
   "cell_type": "code",
   "execution_count": 10,
   "id": "e264dc77",
   "metadata": {
    "execution": {
     "iopub.execute_input": "2022-06-01T07:44:56.050096Z",
     "iopub.status.busy": "2022-06-01T07:44:56.049777Z",
     "iopub.status.idle": "2022-06-01T07:44:56.055599Z",
     "shell.execute_reply": "2022-06-01T07:44:56.054435Z"
    },
    "papermill": {
     "duration": 0.034588,
     "end_time": "2022-06-01T07:44:56.058161",
     "exception": false,
     "start_time": "2022-06-01T07:44:56.023573",
     "status": "completed"
    },
    "tags": []
   },
   "outputs": [],
   "source": [
    "count1 = 0\n",
    "count0 = 0\n",
    "survived = train_df['Survived']\n",
    "for i in survived:\n",
    "    if(i==1):\n",
    "        count1=count1+1\n",
    "    else:\n",
    "        count0=count0+1\n"
   ]
  },
  {
   "cell_type": "code",
   "execution_count": null,
   "id": "dd8f19fd",
   "metadata": {
    "papermill": {
     "duration": 0.024115,
     "end_time": "2022-06-01T07:44:56.107850",
     "exception": false,
     "start_time": "2022-06-01T07:44:56.083735",
     "status": "completed"
    },
    "tags": []
   },
   "outputs": [],
   "source": []
  },
  {
   "cell_type": "code",
   "execution_count": null,
   "id": "f92b678c",
   "metadata": {
    "execution": {
     "iopub.execute_input": "2022-05-03T09:26:58.436367Z",
     "iopub.status.busy": "2022-05-03T09:26:58.435942Z",
     "iopub.status.idle": "2022-05-03T09:26:58.462963Z",
     "shell.execute_reply": "2022-05-03T09:26:58.462099Z",
     "shell.execute_reply.started": "2022-05-03T09:26:58.436288Z"
    },
    "papermill": {
     "duration": 0.024135,
     "end_time": "2022-06-01T07:44:56.156611",
     "exception": false,
     "start_time": "2022-06-01T07:44:56.132476",
     "status": "completed"
    },
    "tags": []
   },
   "outputs": [],
   "source": []
  },
  {
   "cell_type": "code",
   "execution_count": null,
   "id": "c6dda4d7",
   "metadata": {
    "papermill": {
     "duration": 0.024939,
     "end_time": "2022-06-01T07:44:56.206073",
     "exception": false,
     "start_time": "2022-06-01T07:44:56.181134",
     "status": "completed"
    },
    "tags": []
   },
   "outputs": [],
   "source": []
  },
  {
   "cell_type": "code",
   "execution_count": null,
   "id": "307a7575",
   "metadata": {
    "papermill": {
     "duration": 0.02401,
     "end_time": "2022-06-01T07:44:56.254938",
     "exception": false,
     "start_time": "2022-06-01T07:44:56.230928",
     "status": "completed"
    },
    "tags": []
   },
   "outputs": [],
   "source": []
  },
  {
   "cell_type": "code",
   "execution_count": null,
   "id": "6f2668b1",
   "metadata": {
    "papermill": {
     "duration": 0.023988,
     "end_time": "2022-06-01T07:44:56.303452",
     "exception": false,
     "start_time": "2022-06-01T07:44:56.279464",
     "status": "completed"
    },
    "tags": []
   },
   "outputs": [],
   "source": []
  }
 ],
 "metadata": {
  "kernelspec": {
   "display_name": "Python 3",
   "language": "python",
   "name": "python3"
  },
  "language_info": {
   "codemirror_mode": {
    "name": "ipython",
    "version": 3
   },
   "file_extension": ".py",
   "mimetype": "text/x-python",
   "name": "python",
   "nbconvert_exporter": "python",
   "pygments_lexer": "ipython3",
   "version": "3.7.12"
  },
  "papermill": {
   "default_parameters": {},
   "duration": 15.847892,
   "end_time": "2022-06-01T07:44:57.151166",
   "environment_variables": {},
   "exception": null,
   "input_path": "__notebook__.ipynb",
   "output_path": "__notebook__.ipynb",
   "parameters": {},
   "start_time": "2022-06-01T07:44:41.303274",
   "version": "2.3.4"
  }
 },
 "nbformat": 4,
 "nbformat_minor": 5
}
